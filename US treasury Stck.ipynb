{
 "cells": [
  {
   "cell_type": "code",
   "execution_count": 1,
   "metadata": {},
   "outputs": [],
   "source": [
    "from operator import itemgetter\n",
    "import re\n",
    "\n",
    "import numpy as np\n",
    "import pandas as pd\n",
    "\n"
   ]
  },
  {
   "cell_type": "code",
   "execution_count": 2,
   "metadata": {},
   "outputs": [],
   "source": [
    "\n",
    "get_unit_and_periods = itemgetter('unit', 'periods')\n",
    "\n",
    "\n",
    "def parse_treasury_csv_column(column):\n",
    "    \"\"\"\n",
    "    Parse a treasury CSV column into a more human-readable format.\n",
    "    Columns start with 'RIFLGFC', followed by Y or M (year or month), followed\n",
    "    by a two-digit number signifying number of years/months, followed by _N.B.\n",
    "    We only care about the middle two entries, which we turn into a string like\n",
    "    3month or 30year.\n",
    "    \"\"\"\n",
    "    column_re = re.compile(\n",
    "        r\"^(?P<prefix>RIFLGFC)\"\n",
    "        \"(?P<unit>[YM])\"\n",
    "        \"(?P<periods>[0-9]{2})\"\n",
    "        \"(?P<suffix>_N.B)$\"\n",
    "    )\n",
    "\n",
    "    match = column_re.match(column)\n",
    "    if match is None:\n",
    "        raise ValueError(\"Couldn't parse CSV column %r.\" % column)\n",
    "    unit, periods = get_unit_and_periods(match.groupdict())\n",
    "\n",
    "    # Roundtrip through int to coerce '06' into '6'.\n",
    "    return str(int(periods)) + ('year' if unit == 'Y' else 'month')\n",
    "\n",
    "\n",
    "def earliest_possible_date():\n",
    "    \"\"\"\n",
    "    The earliest date for which we can load data from this module.\n",
    "    \"\"\"\n",
    "    # The US Treasury actually has data going back further than this, but it's\n",
    "    # pretty rare to find pricing data going back that far, and there's no\n",
    "    # reason to make people download benchmarks back to 1950 that they'll never\n",
    "    # be able to use.\n",
    "    return pd.Timestamp('2010', tz='UTC')\n",
    "\n",
    "\n",
    "def get_treasury_data(start_date, end_date):\n",
    "    return pd.read_csv(\n",
    "        \"https://www.federalreserve.gov/datadownload/Output.aspx\"\n",
    "        \"?rel=H15\"\n",
    "        \"&series=bf17364827e38702b42a58cf8eaa3f78\"\n",
    "        \"&lastObs=\"\n",
    "        \"&from=\"  # An unbounded query is ~2x faster than specifying dates.\n",
    "        \"&to=\"\n",
    "        \"&filetype=csv\"\n",
    "        \"&label=include\"\n",
    "        \"&layout=seriescolumn\"\n",
    "        \"&type=package\",\n",
    "        skiprows=5,  # First 5 rows are useless headers.\n",
    "        parse_dates=['Time Period'],\n",
    "        na_values=['ND'],  # Presumably this stands for \"No Data\".\n",
    "        index_col=0,\n",
    "    ).loc[\n",
    "        start_date:end_date\n",
    "    ].dropna(\n",
    "        how='all'\n",
    "    ).rename(\n",
    "        columns=parse_treasury_csv_column\n",
    "    ).tz_localize('UTC') * 0.01  # Convert from 2.57% to 0.0257.\n",
    "\n",
    "\n",
    "def dataconverter(s):\n",
    "    try:\n",
    "        return float(s) / 100\n",
    "    except Exception:\n",
    "        return np.nan\n",
    "\n",
    "\n",
    "def get_daily_10yr_treasury_data():\n",
    "    \"\"\"Download daily 10 year treasury rates from the Federal Reserve and\n",
    "    return a pandas.Series.\"\"\"\n",
    "    url = \"https://www.federalreserve.gov/datadownload/Output.aspx?rel=H15\" \\\n",
    "          \"&series=bcb44e57fb57efbe90002369321bfb3f&lastObs=&from=&to=\" \\\n",
    "          \"&filetype=csv&label=include&layout=seriescolumn\"\n",
    "    return pd.read_csv(url, header=5, index_col=0, names=['DATE', 'BC_10YEAR'],\n",
    "                       parse_dates=True, converters={1: dataconverter},\n",
    "                       squeeze=True)"
   ]
  },
  {
   "cell_type": "code",
   "execution_count": 10,
   "metadata": {},
   "outputs": [
    {
     "data": {
      "text/html": [
       "<div>\n",
       "<style scoped>\n",
       "    .dataframe tbody tr th:only-of-type {\n",
       "        vertical-align: middle;\n",
       "    }\n",
       "\n",
       "    .dataframe tbody tr th {\n",
       "        vertical-align: top;\n",
       "    }\n",
       "\n",
       "    .dataframe thead th {\n",
       "        text-align: right;\n",
       "    }\n",
       "</style>\n",
       "<table border=\"1\" class=\"dataframe\">\n",
       "  <thead>\n",
       "    <tr style=\"text-align: right;\">\n",
       "      <th></th>\n",
       "      <th>1month</th>\n",
       "      <th>3month</th>\n",
       "      <th>6month</th>\n",
       "      <th>1year</th>\n",
       "      <th>2year</th>\n",
       "      <th>3year</th>\n",
       "      <th>5year</th>\n",
       "      <th>7year</th>\n",
       "      <th>10year</th>\n",
       "      <th>20year</th>\n",
       "      <th>30year</th>\n",
       "    </tr>\n",
       "    <tr>\n",
       "      <th>Time Period</th>\n",
       "      <th></th>\n",
       "      <th></th>\n",
       "      <th></th>\n",
       "      <th></th>\n",
       "      <th></th>\n",
       "      <th></th>\n",
       "      <th></th>\n",
       "      <th></th>\n",
       "      <th></th>\n",
       "      <th></th>\n",
       "      <th></th>\n",
       "    </tr>\n",
       "  </thead>\n",
       "  <tbody>\n",
       "    <tr>\n",
       "      <th>2019-10-01 00:00:00+00:00</th>\n",
       "      <td>0.0179</td>\n",
       "      <td>0.0182</td>\n",
       "      <td>0.0181</td>\n",
       "      <td>0.0173</td>\n",
       "      <td>0.0156</td>\n",
       "      <td>0.0151</td>\n",
       "      <td>0.0151</td>\n",
       "      <td>0.0159</td>\n",
       "      <td>0.0165</td>\n",
       "      <td>0.0193</td>\n",
       "      <td>0.0211</td>\n",
       "    </tr>\n",
       "    <tr>\n",
       "      <th>2019-10-02 00:00:00+00:00</th>\n",
       "      <td>0.0175</td>\n",
       "      <td>0.0179</td>\n",
       "      <td>0.0175</td>\n",
       "      <td>0.0167</td>\n",
       "      <td>0.0148</td>\n",
       "      <td>0.0143</td>\n",
       "      <td>0.0143</td>\n",
       "      <td>0.0153</td>\n",
       "      <td>0.0160</td>\n",
       "      <td>0.0190</td>\n",
       "      <td>0.0209</td>\n",
       "    </tr>\n",
       "    <tr>\n",
       "      <th>2019-10-03 00:00:00+00:00</th>\n",
       "      <td>0.0178</td>\n",
       "      <td>0.0170</td>\n",
       "      <td>0.0166</td>\n",
       "      <td>0.0158</td>\n",
       "      <td>0.0139</td>\n",
       "      <td>0.0134</td>\n",
       "      <td>0.0134</td>\n",
       "      <td>0.0145</td>\n",
       "      <td>0.0154</td>\n",
       "      <td>0.0185</td>\n",
       "      <td>0.0204</td>\n",
       "    </tr>\n",
       "    <tr>\n",
       "      <th>2019-10-04 00:00:00+00:00</th>\n",
       "      <td>0.0173</td>\n",
       "      <td>0.0171</td>\n",
       "      <td>0.0165</td>\n",
       "      <td>0.0158</td>\n",
       "      <td>0.0140</td>\n",
       "      <td>0.0135</td>\n",
       "      <td>0.0134</td>\n",
       "      <td>0.0143</td>\n",
       "      <td>0.0152</td>\n",
       "      <td>0.0181</td>\n",
       "      <td>0.0201</td>\n",
       "    </tr>\n",
       "    <tr>\n",
       "      <th>2019-10-07 00:00:00+00:00</th>\n",
       "      <td>0.0176</td>\n",
       "      <td>0.0175</td>\n",
       "      <td>0.0173</td>\n",
       "      <td>0.0164</td>\n",
       "      <td>0.0146</td>\n",
       "      <td>0.0141</td>\n",
       "      <td>0.0138</td>\n",
       "      <td>0.0147</td>\n",
       "      <td>0.0156</td>\n",
       "      <td>0.0185</td>\n",
       "      <td>0.0205</td>\n",
       "    </tr>\n",
       "    <tr>\n",
       "      <th>2019-10-08 00:00:00+00:00</th>\n",
       "      <td>0.0169</td>\n",
       "      <td>0.0172</td>\n",
       "      <td>0.0169</td>\n",
       "      <td>0.0162</td>\n",
       "      <td>0.0142</td>\n",
       "      <td>0.0138</td>\n",
       "      <td>0.0136</td>\n",
       "      <td>0.0145</td>\n",
       "      <td>0.0154</td>\n",
       "      <td>0.0184</td>\n",
       "      <td>0.0204</td>\n",
       "    </tr>\n",
       "    <tr>\n",
       "      <th>2019-10-09 00:00:00+00:00</th>\n",
       "      <td>0.0169</td>\n",
       "      <td>0.0169</td>\n",
       "      <td>0.0169</td>\n",
       "      <td>0.0159</td>\n",
       "      <td>0.0147</td>\n",
       "      <td>0.0143</td>\n",
       "      <td>0.0140</td>\n",
       "      <td>0.0150</td>\n",
       "      <td>0.0159</td>\n",
       "      <td>0.0188</td>\n",
       "      <td>0.0208</td>\n",
       "    </tr>\n",
       "    <tr>\n",
       "      <th>2019-10-10 00:00:00+00:00</th>\n",
       "      <td>0.0174</td>\n",
       "      <td>0.0168</td>\n",
       "      <td>0.0168</td>\n",
       "      <td>0.0163</td>\n",
       "      <td>0.0153</td>\n",
       "      <td>0.0149</td>\n",
       "      <td>0.0148</td>\n",
       "      <td>0.0157</td>\n",
       "      <td>0.0167</td>\n",
       "      <td>0.0196</td>\n",
       "      <td>0.0216</td>\n",
       "    </tr>\n",
       "  </tbody>\n",
       "</table>\n",
       "</div>"
      ],
      "text/plain": [
       "                           1month  3month  6month   1year   2year   3year  \\\n",
       "Time Period                                                                 \n",
       "2019-10-01 00:00:00+00:00  0.0179  0.0182  0.0181  0.0173  0.0156  0.0151   \n",
       "2019-10-02 00:00:00+00:00  0.0175  0.0179  0.0175  0.0167  0.0148  0.0143   \n",
       "2019-10-03 00:00:00+00:00  0.0178  0.0170  0.0166  0.0158  0.0139  0.0134   \n",
       "2019-10-04 00:00:00+00:00  0.0173  0.0171  0.0165  0.0158  0.0140  0.0135   \n",
       "2019-10-07 00:00:00+00:00  0.0176  0.0175  0.0173  0.0164  0.0146  0.0141   \n",
       "2019-10-08 00:00:00+00:00  0.0169  0.0172  0.0169  0.0162  0.0142  0.0138   \n",
       "2019-10-09 00:00:00+00:00  0.0169  0.0169  0.0169  0.0159  0.0147  0.0143   \n",
       "2019-10-10 00:00:00+00:00  0.0174  0.0168  0.0168  0.0163  0.0153  0.0149   \n",
       "\n",
       "                            5year   7year  10year  20year  30year  \n",
       "Time Period                                                        \n",
       "2019-10-01 00:00:00+00:00  0.0151  0.0159  0.0165  0.0193  0.0211  \n",
       "2019-10-02 00:00:00+00:00  0.0143  0.0153  0.0160  0.0190  0.0209  \n",
       "2019-10-03 00:00:00+00:00  0.0134  0.0145  0.0154  0.0185  0.0204  \n",
       "2019-10-04 00:00:00+00:00  0.0134  0.0143  0.0152  0.0181  0.0201  \n",
       "2019-10-07 00:00:00+00:00  0.0138  0.0147  0.0156  0.0185  0.0205  \n",
       "2019-10-08 00:00:00+00:00  0.0136  0.0145  0.0154  0.0184  0.0204  \n",
       "2019-10-09 00:00:00+00:00  0.0140  0.0150  0.0159  0.0188  0.0208  \n",
       "2019-10-10 00:00:00+00:00  0.0148  0.0157  0.0167  0.0196  0.0216  "
      ]
     },
     "execution_count": 10,
     "metadata": {},
     "output_type": "execute_result"
    }
   ],
   "source": [
    "get_treasury_data('2019-10-01','2019-10-10')"
   ]
  },
  {
   "cell_type": "code",
   "execution_count": 11,
   "metadata": {},
   "outputs": [],
   "source": [
    "check=get_daily_10yr_treasury_data()"
   ]
  },
  {
   "cell_type": "code",
   "execution_count": 12,
   "metadata": {},
   "outputs": [
    {
     "data": {
      "text/plain": [
       "DATE\n",
       "1962-01-02    0.0406\n",
       "1962-01-03    0.0403\n",
       "1962-01-04    0.0399\n",
       "1962-01-05    0.0402\n",
       "1962-01-08    0.0403\n",
       "Name: BC_10YEAR, dtype: float64"
      ]
     },
     "execution_count": 12,
     "metadata": {},
     "output_type": "execute_result"
    }
   ],
   "source": []
  },
  {
   "cell_type": "code",
   "execution_count": 16,
   "metadata": {},
   "outputs": [
    {
     "name": "stderr",
     "output_type": "stream",
     "text": [
      "C:\\Users\\manas\\Anaconda3\\lib\\site-packages\\pandas\\plotting\\_converter.py:129: FutureWarning: Using an implicitly registered datetime converter for a matplotlib plotting method. The converter was registered by pandas on import. Future versions of pandas will require you to explicitly register matplotlib converters.\n",
      "\n",
      "To register the converters:\n",
      "\t>>> from pandas.plotting import register_matplotlib_converters\n",
      "\t>>> register_matplotlib_converters()\n",
      "  warnings.warn(msg, FutureWarning)\n"
     ]
    },
    {
     "data": {
      "text/plain": [
       "[<matplotlib.lines.Line2D at 0x23b9654fa58>]"
      ]
     },
     "execution_count": 16,
     "metadata": {},
     "output_type": "execute_result"
    },
    {
     "data": {
      "image/png": "[encoded data removed]",
      "text/plain": [
       "<Figure size 432x288 with 1 Axes>"
      ]
     },
     "metadata": {
      "needs_background": "light"
     },
     "output_type": "display_data"
    }
   ],
   "source": [
    "plt.plot(check)"
   ]
  },
  {
   "cell_type": "code",
   "execution_count": 15,
   "metadata": {},
   "outputs": [],
   "source": [
    "import matplotlib.pyplot as plt "
   ]
  },
  {
   "cell_type": "code",
   "execution_count": null,
   "metadata": {},
   "outputs": [],
   "source": []
  },
  {
   "cell_type": "code",
   "execution_count": null,
   "metadata": {},
   "outputs": [],
   "source": []
  },
  {
   "cell_type": "code",
   "execution_count": null,
   "metadata": {},
   "outputs": [],
   "source": []
  },
  {
   "cell_type": "code",
   "execution_count": null,
   "metadata": {},
   "outputs": [],
   "source": []
  },
  {
   "cell_type": "code",
   "execution_count": null,
   "metadata": {},
   "outputs": [],
   "source": []
  },
  {
   "cell_type": "code",
   "execution_count": null,
   "metadata": {},
   "outputs": [],
   "source": []
  },
  {
   "cell_type": "code",
   "execution_count": null,
   "metadata": {},
   "outputs": [],
   "source": []
  },
  {
   "cell_type": "code",
   "execution_count": null,
   "metadata": {},
   "outputs": [],
   "source": []
  },
  {
   "cell_type": "code",
   "execution_count": null,
   "metadata": {},
   "outputs": [],
   "source": []
  }
 ],
 "metadata": {
  "kernelspec": {
   "display_name": "Python 3",
   "language": "python",
   "name": "python3"
  },
  "language_info": {
   "codemirror_mode": {
    "name": "ipython",
    "version": 3
   },
   "file_extension": ".py",
   "mimetype": "text/x-python",
   "name": "python",
   "nbconvert_exporter": "python",
   "pygments_lexer": "ipython3",
   "version": "3.7.3"
  }
 },
 "nbformat": 4,
 "nbformat_minor": 2
}
